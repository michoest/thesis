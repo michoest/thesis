{
  "cells": [
    {
      "cell_type": "markdown",
      "metadata": {
        "id": "CKlqQkDv_iYM"
      },
      "source": [
        "# Chapter 7: Finding optimal restrictions via exhaustive search"
      ]
    },
    {
      "cell_type": "markdown",
      "metadata": {
        "id": "xP0Z3toP_pD4"
      },
      "source": [
        "## Setup and Definitions"
      ]
    },
    {
      "cell_type": "markdown",
      "metadata": {
        "id": "lRteUIAGP0fY"
      },
      "source": [
        "### Imports"
      ]
    },
    {
      "cell_type": "code",
      "execution_count": 3,
      "metadata": {
        "id": "IrPNoBO8eL0I"
      },
      "outputs": [],
      "source": [
        "import numpy as np\n",
        "import matplotlib.pyplot as plt\n",
        "from matplotlib.ticker import PercentFormatter\n",
        "\n",
        "from src.solver import IntervalUnionRestrictionSolver\n",
        "from src.utility import QuadraticTwoPlayerUtility\n",
        "from src.nfg import GovernedNormalFormGame\n",
        "from src.utils import IntervalUnion, degree_of_restriction, relative_improvement\n",
        "from src.equilibria import worst_hill_climbing_nash_equilibrium"
      ]
    },
    {
      "cell_type": "markdown",
      "metadata": {
        "id": "JOqD-bmGP2c6"
      },
      "source": [
        "### Utilities"
      ]
    },
    {
      "cell_type": "code",
      "execution_count": null,
      "metadata": {
        "id": "CZblc0WcwhML"
      },
      "outputs": [],
      "source": [
        "def progress(value, max=100):\n",
        "    return HTML(\"\"\"\n",
        "        <progress\n",
        "            value='{value}'\n",
        "            max='{max}',\n",
        "            style='width: 100%'\n",
        "        >\n",
        "            {value}\n",
        "        </progress>\n",
        "    \"\"\".format(value=value, max=max))"
      ]
    },
    {
      "cell_type": "markdown",
      "metadata": {
        "id": "dWwhRbRte93G"
      },
      "source": [
        "## Experiments"
      ]
    },
    {
      "cell_type": "markdown",
      "metadata": {
        "id": "aiTSCCqBUa-R"
      },
      "source": [
        "### Parameterized Cournot Game (CG)"
      ]
    },
    {
      "cell_type": "code",
      "execution_count": null,
      "metadata": {
        "id": "Ad3aOmyBUdwo"
      },
      "outputs": [],
      "source": [
        "results = []\n",
        "epsilon, decimals = 0.1, 3\n",
        "solver = IntervalUnionRestrictionSolver(epsilon=epsilon)\n",
        "progress_bar = display(progress(0, 100), display_id=True)\n",
        "lambda_min, lambda_max = 10.0, 200.0\n",
        "lambdas = list(np.round(np.arange(lambda_min, lambda_max, 1.0), decimals=decimals))\n",
        "\n",
        "print(f'Solving {len(lambdas)} Cournot games...')\n",
        "for i, lambda_ in enumerate(lambdas):\n",
        "  progress_bar.update(progress(i, len(lambdas)))\n",
        "\n",
        "  u_1 = QuadraticTwoPlayerUtility(0, [-1.0, 0.0, -1.0, lambda_, 0.0, 0.0])\n",
        "  u_2 = QuadraticTwoPlayerUtility(1, [0.0, -1.0, -1.0, 0.0, lambda_, 0.0])\n",
        "\n",
        "  a = IntervalUnion([(0.0, lambda_)])\n",
        "  g = GovernedNormalFormGame(a, [u_1, u_2], u_1 + u_2)\n",
        "\n",
        "  results.append(solver.solve(g, nash_equilibrium_oracle=worst_hill_climbing_nash_equilibrium))\n",
        "\n",
        "progress_bar.update(progress(len(lambdas), len(lambdas)))  \n",
        "  \n",
        "print('Done!')"
      ]
    },
    {
      "cell_type": "code",
      "execution_count": null,
      "metadata": {
        "id": "9i12HAaGZVWS"
      },
      "outputs": [],
      "source": [
        "X = lambdas\n",
        "fig, ax1 = plt.subplots(figsize=(8, 4))\n",
        "plt.xlabel('$\\\\lambda$')\n",
        "\n",
        "ax1.set_ylabel('MESU')\n",
        "\n",
        "Y = [result.initial_social_utility for result in results]\n",
        "ax1.plot(X, Y, label='Unrestricted MESU')\n",
        "\n",
        "Y = [result.optimal_social_utility for result in results]\n",
        "ax1.plot(X, Y, label='Restricted MESU')\n",
        "\n",
        "ax2 = ax1.twinx()\n",
        "ax2.set_ylabel('$\\\\Delta(R^*)$')\n",
        "ax2.set_ylim([0.0, 30.0])\n",
        "ax2.yaxis.set_major_formatter(PercentFormatter())\n",
        "Y = [100.0 * relative_improvement(result) for result in results]\n",
        "ax2.plot(X, Y, color='g', label='Relative improvement')\n",
        "\n",
        "fig.legend()"
      ]
    },
    {
      "cell_type": "code",
      "execution_count": null,
      "metadata": {
        "id": "DKIK2NbnZWLb"
      },
      "outputs": [],
      "source": [
        "X = lambdas\n",
        "fig, ax1 = plt.subplots(figsize=(8, 4))\n",
        "\n",
        "plt.xlabel('$\\\\lambda$')\n",
        "ax1.set_ylabel('$\\\\mathfrak{r}(R^*)$')\n",
        "ax1.set_ylim([20.0, 30.0])\n",
        "ax1.yaxis.set_major_formatter(PercentFormatter(decimals=0))\n",
        "Y = [100 * degree_of_restriction(result) for result in results]\n",
        "ax1.plot(X, Y, label='Degree of restriction')\n",
        "\n",
        "ax2 = ax1.twinx()\n",
        "ax2.set_ylabel('# oracle calls')\n",
        "Y = [result.info['number_of_oracle_calls'] for result in results]\n",
        "ax2.plot(X, Y, color='g', label='Number of oracle calls')\n",
        "\n",
        "fig.legend()"
      ]
    },
    {
      "cell_type": "markdown",
      "metadata": {
        "id": "A12kB1DR3qX4"
      },
      "source": [
        "### Parameterized Continuous Braess Paradox (BP)"
      ]
    },
    {
      "cell_type": "code",
      "execution_count": null,
      "metadata": {
        "id": "cfs6oyP13uOa"
      },
      "outputs": [],
      "source": [
        "results = []\n",
        "epsilon, decimals = 0.0001, 5\n",
        "solver = IntervalUnionRestrictionSolver(epsilon=epsilon)\n",
        "progress_bar = display(progress(0, 100), display_id=True)\n",
        "b_min, b_max, b_step = 4.0, 18.0, 0.1\n",
        "bs = list(np.round(np.arange(b_min, b_max, b_step), decimals=decimals))\n",
        "params = [(0.0, b, 4.0, 0.0) for b in bs]\n",
        "\n",
        "print(f'Solving {len(params)} Braess games...')\n",
        "for i, [a, b, c, d] in enumerate(params):\n",
        "  progress_bar.update(progress(i, len(params)))\n",
        "  \n",
        "  u_1 = QuadraticTwoPlayerUtility(0, [-a - c, 0.0, 0.0, 2*a + b - c - 1, -c, 4*c + d + 1])\n",
        "  u_2 = QuadraticTwoPlayerUtility(1, [0.0, -a - c, 0.0, -c, 2*a + b - c - 1, 4*c + d + 1])\n",
        "\n",
        "  a = IntervalUnion([(0.0, 1.0)])\n",
        "  g = GovernedNormalFormGame(a, [u_1, u_2], u_1 + u_2)\n",
        "\n",
        "  results.append(solver.solve(g, nash_equilibrium_oracle=worst_hill_climbing_nash_equilibrium))\n",
        "\n",
        "progress_bar.update(progress(len(params), len(params)))  \n",
        "  \n",
        "print('Done!')"
      ]
    },
    {
      "cell_type": "code",
      "execution_count": null,
      "metadata": {
        "id": "GaY-KHvi4z-x"
      },
      "outputs": [],
      "source": [
        "X = np.array([b for a, b, c, d in params])\n",
        "fig, ax1 = plt.subplots(figsize=(8, 4))\n",
        "plt.xlabel('$b$')\n",
        "\n",
        "ax1.set_ylabel('MESU')\n",
        "\n",
        "Y = [result.initial_social_utility for result in results]\n",
        "ax1.plot(X, Y, label='Unrestricted MESU')\n",
        "\n",
        "Y = [result.optimal_social_utility for result in results]\n",
        "ax1.plot(X, Y, label='Restricted MESU')\n",
        "\n",
        "ax2 = ax1.twinx()\n",
        "ax2.set_ylabel('$\\\\Delta(R^*)$')\n",
        "ax2.yaxis.set_major_formatter(PercentFormatter())\n",
        "Y = [100.0 * relative_improvement(result) for result in results]\n",
        "ax2.plot(X, Y, color='g', label='Relative improvement')\n",
        "\n",
        "fig.legend()"
      ]
    },
    {
      "cell_type": "code",
      "execution_count": null,
      "metadata": {
        "id": "6Z5CD8PF7fGL"
      },
      "outputs": [],
      "source": [
        "X = np.array([b for a, b, c, d in params])\n",
        "fig, ax1 = plt.subplots(figsize=(8, 4))\n",
        "plt.xlabel('$b$')\n",
        "\n",
        "ax1.set_ylabel('$\\\\mathfrak{r}(R^*)$')\n",
        "ax1.yaxis.set_major_formatter(PercentFormatter(decimals=0))\n",
        "Y = [100 * degree_of_restriction(result) for result in results]\n",
        "ax1.plot(X, Y, label='Degree of restriction')\n",
        "\n",
        "ax2 = ax1.twinx()\n",
        "ax2.set_ylabel('# oracle calls')\n",
        "Y = [result.info['number_of_oracle_calls'] for result in results]\n",
        "ax2.plot(X, Y, color='g', label='Number of oracle calls')\n",
        "ax2.set_ylim(bottom=0)\n",
        "\n",
        "fig.legend()"
      ]
    }
  ],
  "metadata": {
    "colab": {
      "collapsed_sections": [
        "JOqD-bmGP2c6"
      ],
      "name": "aaai_2023_main_track_paper_id_6770.ipynb",
      "provenance": []
    },
    "kernelspec": {
      "display_name": "Python 3",
      "name": "python3"
    },
    "language_info": {
      "codemirror_mode": {
        "name": "ipython",
        "version": 3
      },
      "file_extension": ".py",
      "mimetype": "text/x-python",
      "name": "python",
      "nbconvert_exporter": "python",
      "pygments_lexer": "ipython3",
      "version": "3.11.4"
    }
  },
  "nbformat": 4,
  "nbformat_minor": 0
}
